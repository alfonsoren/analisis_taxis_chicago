{
 "cells": [
  {
   "cell_type": "markdown",
   "metadata": {},
   "source": [
    "# Transporte de Taxis Chicago"
   ]
  },
  {
   "cell_type": "markdown",
   "metadata": {},
   "source": [
    "## Análisis Exploratorio de Datos"
   ]
  },
  {
   "cell_type": "code",
   "execution_count": 1,
   "metadata": {
    "trusted": false
   },
   "outputs": [],
   "source": [
    "# Importar librerias\n",
    "import pandas as pd\n",
    "import matplotlib.pyplot as plt\n",
    "from scipy import stats\n"
   ]
  },
  {
   "cell_type": "code",
   "execution_count": 2,
   "metadata": {
    "trusted": false
   },
   "outputs": [],
   "source": [
    "# Leer los Datasets\n",
    "taxi_companies = pd.read_csv('/datasets/project_sql_result_01.csv')\n",
    "dropoff_neighborhoods = pd.read_csv('/datasets/project_sql_result_04.csv')"
   ]
  },
  {
   "cell_type": "code",
   "execution_count": 3,
   "metadata": {
    "trusted": false
   },
   "outputs": [
    {
     "data": {
      "text/html": [
       "<div>\n",
       "<style scoped>\n",
       "    .dataframe tbody tr th:only-of-type {\n",
       "        vertical-align: middle;\n",
       "    }\n",
       "\n",
       "    .dataframe tbody tr th {\n",
       "        vertical-align: top;\n",
       "    }\n",
       "\n",
       "    .dataframe thead th {\n",
       "        text-align: right;\n",
       "    }\n",
       "</style>\n",
       "<table border=\"1\" class=\"dataframe\">\n",
       "  <thead>\n",
       "    <tr style=\"text-align: right;\">\n",
       "      <th></th>\n",
       "      <th>company_name</th>\n",
       "      <th>trips_amount</th>\n",
       "    </tr>\n",
       "  </thead>\n",
       "  <tbody>\n",
       "    <tr>\n",
       "      <th>0</th>\n",
       "      <td>Flash Cab</td>\n",
       "      <td>19558</td>\n",
       "    </tr>\n",
       "    <tr>\n",
       "      <th>1</th>\n",
       "      <td>Taxi Affiliation Services</td>\n",
       "      <td>11422</td>\n",
       "    </tr>\n",
       "    <tr>\n",
       "      <th>2</th>\n",
       "      <td>Medallion Leasing</td>\n",
       "      <td>10367</td>\n",
       "    </tr>\n",
       "    <tr>\n",
       "      <th>3</th>\n",
       "      <td>Yellow Cab</td>\n",
       "      <td>9888</td>\n",
       "    </tr>\n",
       "    <tr>\n",
       "      <th>4</th>\n",
       "      <td>Taxi Affiliation Service Yellow</td>\n",
       "      <td>9299</td>\n",
       "    </tr>\n",
       "  </tbody>\n",
       "</table>\n",
       "</div>"
      ],
      "text/plain": [
       "                      company_name  trips_amount\n",
       "0                        Flash Cab         19558\n",
       "1        Taxi Affiliation Services         11422\n",
       "2                Medallion Leasing         10367\n",
       "3                       Yellow Cab          9888\n",
       "4  Taxi Affiliation Service Yellow          9299"
      ]
     },
     "metadata": {},
     "output_type": "display_data"
    },
    {
     "name": "stdout",
     "output_type": "stream",
     "text": [
      "<class 'pandas.core.frame.DataFrame'>\n",
      "RangeIndex: 64 entries, 0 to 63\n",
      "Data columns (total 2 columns):\n",
      " #   Column        Non-Null Count  Dtype \n",
      "---  ------        --------------  ----- \n",
      " 0   company_name  64 non-null     object\n",
      " 1   trips_amount  64 non-null     int64 \n",
      "dtypes: int64(1), object(1)\n",
      "memory usage: 1.1+ KB\n",
      "duplicados:0\n"
     ]
    }
   ],
   "source": [
    "# Estudiar los datos del df taxi_companies\n",
    "display(taxi_companies.head())\n",
    "taxi_companies.info()\n",
    "duplicados = taxi_companies.duplicated()\n",
    "print(f'duplicados:{duplicados.sum()}')  \n",
    "\n"
   ]
  },
  {
   "cell_type": "code",
   "execution_count": 4,
   "metadata": {
    "trusted": false
   },
   "outputs": [
    {
     "data": {
      "text/html": [
       "<div>\n",
       "<style scoped>\n",
       "    .dataframe tbody tr th:only-of-type {\n",
       "        vertical-align: middle;\n",
       "    }\n",
       "\n",
       "    .dataframe tbody tr th {\n",
       "        vertical-align: top;\n",
       "    }\n",
       "\n",
       "    .dataframe thead th {\n",
       "        text-align: right;\n",
       "    }\n",
       "</style>\n",
       "<table border=\"1\" class=\"dataframe\">\n",
       "  <thead>\n",
       "    <tr style=\"text-align: right;\">\n",
       "      <th></th>\n",
       "      <th>dropoff_location_name</th>\n",
       "      <th>average_trips</th>\n",
       "    </tr>\n",
       "  </thead>\n",
       "  <tbody>\n",
       "    <tr>\n",
       "      <th>0</th>\n",
       "      <td>Loop</td>\n",
       "      <td>10727.466667</td>\n",
       "    </tr>\n",
       "    <tr>\n",
       "      <th>1</th>\n",
       "      <td>River North</td>\n",
       "      <td>9523.666667</td>\n",
       "    </tr>\n",
       "    <tr>\n",
       "      <th>2</th>\n",
       "      <td>Streeterville</td>\n",
       "      <td>6664.666667</td>\n",
       "    </tr>\n",
       "    <tr>\n",
       "      <th>3</th>\n",
       "      <td>West Loop</td>\n",
       "      <td>5163.666667</td>\n",
       "    </tr>\n",
       "    <tr>\n",
       "      <th>4</th>\n",
       "      <td>O'Hare</td>\n",
       "      <td>2546.900000</td>\n",
       "    </tr>\n",
       "  </tbody>\n",
       "</table>\n",
       "</div>"
      ],
      "text/plain": [
       "  dropoff_location_name  average_trips\n",
       "0                  Loop   10727.466667\n",
       "1           River North    9523.666667\n",
       "2         Streeterville    6664.666667\n",
       "3             West Loop    5163.666667\n",
       "4                O'Hare    2546.900000"
      ]
     },
     "metadata": {},
     "output_type": "display_data"
    },
    {
     "name": "stdout",
     "output_type": "stream",
     "text": [
      "<class 'pandas.core.frame.DataFrame'>\n",
      "RangeIndex: 94 entries, 0 to 93\n",
      "Data columns (total 2 columns):\n",
      " #   Column                 Non-Null Count  Dtype  \n",
      "---  ------                 --------------  -----  \n",
      " 0   dropoff_location_name  94 non-null     object \n",
      " 1   average_trips          94 non-null     float64\n",
      "dtypes: float64(1), object(1)\n",
      "memory usage: 1.6+ KB\n",
      "duplicados:0\n"
     ]
    }
   ],
   "source": [
    "# Estudiar los datos del df dropoff_neighborhoods\n",
    "display(dropoff_neighborhoods.head())\n",
    "dropoff_neighborhoods.info()\n",
    "duplicados = dropoff_neighborhoods.duplicated()\n",
    "print(f'duplicados:{duplicados.sum()}')  \n"
   ]
  },
  {
   "cell_type": "markdown",
   "metadata": {},
   "source": [
    "* Los datos de los 2 df's tienen los tipos de datos correctos y sin datos nulos\n"
   ]
  },
  {
   "cell_type": "code",
   "execution_count": 5,
   "metadata": {
    "trusted": false
   },
   "outputs": [
    {
     "data": {
      "text/html": [
       "<div>\n",
       "<style scoped>\n",
       "    .dataframe tbody tr th:only-of-type {\n",
       "        vertical-align: middle;\n",
       "    }\n",
       "\n",
       "    .dataframe tbody tr th {\n",
       "        vertical-align: top;\n",
       "    }\n",
       "\n",
       "    .dataframe thead th {\n",
       "        text-align: right;\n",
       "    }\n",
       "</style>\n",
       "<table border=\"1\" class=\"dataframe\">\n",
       "  <thead>\n",
       "    <tr style=\"text-align: right;\">\n",
       "      <th></th>\n",
       "      <th>dropoff_location_name</th>\n",
       "      <th>average_trips</th>\n",
       "    </tr>\n",
       "  </thead>\n",
       "  <tbody>\n",
       "    <tr>\n",
       "      <th>0</th>\n",
       "      <td>Loop</td>\n",
       "      <td>10727.466667</td>\n",
       "    </tr>\n",
       "    <tr>\n",
       "      <th>1</th>\n",
       "      <td>River North</td>\n",
       "      <td>9523.666667</td>\n",
       "    </tr>\n",
       "    <tr>\n",
       "      <th>2</th>\n",
       "      <td>Streeterville</td>\n",
       "      <td>6664.666667</td>\n",
       "    </tr>\n",
       "    <tr>\n",
       "      <th>3</th>\n",
       "      <td>West Loop</td>\n",
       "      <td>5163.666667</td>\n",
       "    </tr>\n",
       "    <tr>\n",
       "      <th>4</th>\n",
       "      <td>O'Hare</td>\n",
       "      <td>2546.900000</td>\n",
       "    </tr>\n",
       "    <tr>\n",
       "      <th>5</th>\n",
       "      <td>Lake View</td>\n",
       "      <td>2420.966667</td>\n",
       "    </tr>\n",
       "    <tr>\n",
       "      <th>6</th>\n",
       "      <td>Grant Park</td>\n",
       "      <td>2068.533333</td>\n",
       "    </tr>\n",
       "    <tr>\n",
       "      <th>7</th>\n",
       "      <td>Museum Campus</td>\n",
       "      <td>1510.000000</td>\n",
       "    </tr>\n",
       "    <tr>\n",
       "      <th>8</th>\n",
       "      <td>Gold Coast</td>\n",
       "      <td>1364.233333</td>\n",
       "    </tr>\n",
       "    <tr>\n",
       "      <th>9</th>\n",
       "      <td>Sheffield &amp; DePaul</td>\n",
       "      <td>1259.766667</td>\n",
       "    </tr>\n",
       "  </tbody>\n",
       "</table>\n",
       "</div>"
      ],
      "text/plain": [
       "  dropoff_location_name  average_trips\n",
       "0                  Loop   10727.466667\n",
       "1           River North    9523.666667\n",
       "2         Streeterville    6664.666667\n",
       "3             West Loop    5163.666667\n",
       "4                O'Hare    2546.900000\n",
       "5             Lake View    2420.966667\n",
       "6            Grant Park    2068.533333\n",
       "7         Museum Campus    1510.000000\n",
       "8            Gold Coast    1364.233333\n",
       "9    Sheffield & DePaul    1259.766667"
      ]
     },
     "metadata": {},
     "output_type": "display_data"
    }
   ],
   "source": [
    "# Identificar los 10 primeros barrios en terminos de finalización del recorrido\n",
    "top_10_neighborhoods = dropoff_neighborhoods.sort_values(by = 'average_trips', ascending = False).head(10)\n",
    "display(top_10_neighborhoods)"
   ]
  },
  {
   "cell_type": "code",
   "execution_count": 6,
   "metadata": {
    "trusted": false
   },
   "outputs": [
    {
     "data": {
      "image/png": "[encoded data removed]",
      "text/plain": [
       "<Figure size 1200x600 with 1 Axes>"
      ]
     },
     "metadata": {},
     "output_type": "display_data"
    }
   ],
   "source": [
    "# Hacer gráfico: empresas de taxis y número de viajes \n",
    "taxi_sorted = taxi_companies.sort_values(by = 'trips_amount', ascending = False).head(10)\n",
    "taxi_sorted.plot(x='company_name', y='trips_amount', kind = 'bar', figsize = (12,6), legend = False)\n",
    "plt.title('Top 10 empresas de taxis')\n",
    "plt.xlabel('Empresa de taxis')\n",
    "plt.ylabel('Número de viajes')\n",
    "plt.xticks(rotation=90)\n",
    "plt.show()"
   ]
  },
  {
   "cell_type": "markdown",
   "metadata": {},
   "source": [
    "* Las compañías que realizaron la mayor cantidad de viajes el 15 y 16 de noviembre de 2017 fueron Flash Cab y Taxi Affiliation Services.\n",
    "\n",
    "* Hay una gran diferencia en la cantidad de viajes entre las principales compañías y el resto.\n",
    "\n",
    "* Podria indicar una mayor cantidad de taxis disponibles en unas cuantas compañías."
   ]
  },
  {
   "cell_type": "code",
   "execution_count": 7,
   "metadata": {
    "trusted": false
   },
   "outputs": [
    {
     "data": {
      "image/png": "[encoded data removed]",
      "text/plain": [
       "<Figure size 1200x600 with 1 Axes>"
      ]
     },
     "metadata": {},
     "output_type": "display_data"
    }
   ],
   "source": [
    "# Hacer gráfico: los 10 barrios principales por número de finalizaciones\n",
    "top_10_neighborhoods.plot(x='dropoff_location_name', y='average_trips', kind = 'bar', figsize = (12,6), legend = False)\n",
    "plt.title('Top 10 barrios por promedio de viaje')\n",
    "plt.xlabel('Barrio')\n",
    "plt.ylabel('Promedio de viajes')\n",
    "plt.xticks(rotation=90)\n",
    "plt.show()"
   ]
  },
  {
   "cell_type": "markdown",
   "metadata": {},
   "source": [
    "* Los barrios más populares donde terminaron los viajes en noviembre de 2017 fueron Loop, River North, y Streeterville.\n",
    "\n",
    "* La mayoría de los viajes se concentran en unos pocos barrios, lo que podría indicar zonas de alta actividad comercial o turística."
   ]
  },
  {
   "cell_type": "markdown",
   "metadata": {},
   "source": [
    "## Prueba de hipótesis"
   ]
  },
  {
   "cell_type": "code",
   "execution_count": 8,
   "metadata": {
    "trusted": false
   },
   "outputs": [],
   "source": [
    "# Importar datos de viajes\n",
    "trips_weather = pd.read_csv('/datasets/project_sql_result_07.csv')"
   ]
  },
  {
   "cell_type": "code",
   "execution_count": 9,
   "metadata": {
    "trusted": false
   },
   "outputs": [
    {
     "data": {
      "text/html": [
       "<div>\n",
       "<style scoped>\n",
       "    .dataframe tbody tr th:only-of-type {\n",
       "        vertical-align: middle;\n",
       "    }\n",
       "\n",
       "    .dataframe tbody tr th {\n",
       "        vertical-align: top;\n",
       "    }\n",
       "\n",
       "    .dataframe thead th {\n",
       "        text-align: right;\n",
       "    }\n",
       "</style>\n",
       "<table border=\"1\" class=\"dataframe\">\n",
       "  <thead>\n",
       "    <tr style=\"text-align: right;\">\n",
       "      <th></th>\n",
       "      <th>start_ts</th>\n",
       "      <th>weather_conditions</th>\n",
       "      <th>duration_seconds</th>\n",
       "    </tr>\n",
       "  </thead>\n",
       "  <tbody>\n",
       "    <tr>\n",
       "      <th>0</th>\n",
       "      <td>2017-11-25 16:00:00</td>\n",
       "      <td>Good</td>\n",
       "      <td>2410.0</td>\n",
       "    </tr>\n",
       "    <tr>\n",
       "      <th>1</th>\n",
       "      <td>2017-11-25 14:00:00</td>\n",
       "      <td>Good</td>\n",
       "      <td>1920.0</td>\n",
       "    </tr>\n",
       "    <tr>\n",
       "      <th>2</th>\n",
       "      <td>2017-11-25 12:00:00</td>\n",
       "      <td>Good</td>\n",
       "      <td>1543.0</td>\n",
       "    </tr>\n",
       "    <tr>\n",
       "      <th>3</th>\n",
       "      <td>2017-11-04 10:00:00</td>\n",
       "      <td>Good</td>\n",
       "      <td>2512.0</td>\n",
       "    </tr>\n",
       "    <tr>\n",
       "      <th>4</th>\n",
       "      <td>2017-11-11 07:00:00</td>\n",
       "      <td>Good</td>\n",
       "      <td>1440.0</td>\n",
       "    </tr>\n",
       "  </tbody>\n",
       "</table>\n",
       "</div>"
      ],
      "text/plain": [
       "              start_ts weather_conditions  duration_seconds\n",
       "0  2017-11-25 16:00:00               Good            2410.0\n",
       "1  2017-11-25 14:00:00               Good            1920.0\n",
       "2  2017-11-25 12:00:00               Good            1543.0\n",
       "3  2017-11-04 10:00:00               Good            2512.0\n",
       "4  2017-11-11 07:00:00               Good            1440.0"
      ]
     },
     "metadata": {},
     "output_type": "display_data"
    },
    {
     "name": "stdout",
     "output_type": "stream",
     "text": [
      "<class 'pandas.core.frame.DataFrame'>\n",
      "RangeIndex: 1068 entries, 0 to 1067\n",
      "Data columns (total 3 columns):\n",
      " #   Column              Non-Null Count  Dtype  \n",
      "---  ------              --------------  -----  \n",
      " 0   start_ts            1068 non-null   object \n",
      " 1   weather_conditions  1068 non-null   object \n",
      " 2   duration_seconds    1068 non-null   float64\n",
      "dtypes: float64(1), object(2)\n",
      "memory usage: 25.2+ KB\n"
     ]
    }
   ],
   "source": [
    "# Verificar los datos\n",
    "display(trips_weather.head())\n",
    "trips_weather.info()"
   ]
  },
  {
   "cell_type": "code",
   "execution_count": 10,
   "metadata": {
    "trusted": false
   },
   "outputs": [],
   "source": [
    "# Convertir columna de tiempo\n",
    "trips_weather['start_ts'] = pd.to_datetime(trips_weather['start_ts'])"
   ]
  },
  {
   "cell_type": "code",
   "execution_count": 11,
   "metadata": {
    "trusted": false
   },
   "outputs": [],
   "source": [
    "# Crear columna de día de la semana\n",
    "trips_weather['day_of_week'] = trips_weather['start_ts'].dt.dayofweek"
   ]
  },
  {
   "cell_type": "code",
   "execution_count": 12,
   "metadata": {
    "trusted": false
   },
   "outputs": [
    {
     "data": {
      "text/html": [
       "<div>\n",
       "<style scoped>\n",
       "    .dataframe tbody tr th:only-of-type {\n",
       "        vertical-align: middle;\n",
       "    }\n",
       "\n",
       "    .dataframe tbody tr th {\n",
       "        vertical-align: top;\n",
       "    }\n",
       "\n",
       "    .dataframe thead th {\n",
       "        text-align: right;\n",
       "    }\n",
       "</style>\n",
       "<table border=\"1\" class=\"dataframe\">\n",
       "  <thead>\n",
       "    <tr style=\"text-align: right;\">\n",
       "      <th></th>\n",
       "      <th>start_ts</th>\n",
       "      <th>weather_conditions</th>\n",
       "      <th>duration_seconds</th>\n",
       "      <th>day_of_week</th>\n",
       "    </tr>\n",
       "  </thead>\n",
       "  <tbody>\n",
       "    <tr>\n",
       "      <th>0</th>\n",
       "      <td>2017-11-25 16:00:00</td>\n",
       "      <td>Good</td>\n",
       "      <td>2410.0</td>\n",
       "      <td>5</td>\n",
       "    </tr>\n",
       "    <tr>\n",
       "      <th>1</th>\n",
       "      <td>2017-11-25 14:00:00</td>\n",
       "      <td>Good</td>\n",
       "      <td>1920.0</td>\n",
       "      <td>5</td>\n",
       "    </tr>\n",
       "    <tr>\n",
       "      <th>2</th>\n",
       "      <td>2017-11-25 12:00:00</td>\n",
       "      <td>Good</td>\n",
       "      <td>1543.0</td>\n",
       "      <td>5</td>\n",
       "    </tr>\n",
       "    <tr>\n",
       "      <th>3</th>\n",
       "      <td>2017-11-04 10:00:00</td>\n",
       "      <td>Good</td>\n",
       "      <td>2512.0</td>\n",
       "      <td>5</td>\n",
       "    </tr>\n",
       "    <tr>\n",
       "      <th>4</th>\n",
       "      <td>2017-11-11 07:00:00</td>\n",
       "      <td>Good</td>\n",
       "      <td>1440.0</td>\n",
       "      <td>5</td>\n",
       "    </tr>\n",
       "    <tr>\n",
       "      <th>...</th>\n",
       "      <td>...</td>\n",
       "      <td>...</td>\n",
       "      <td>...</td>\n",
       "      <td>...</td>\n",
       "    </tr>\n",
       "    <tr>\n",
       "      <th>1063</th>\n",
       "      <td>2017-11-25 11:00:00</td>\n",
       "      <td>Good</td>\n",
       "      <td>0.0</td>\n",
       "      <td>5</td>\n",
       "    </tr>\n",
       "    <tr>\n",
       "      <th>1064</th>\n",
       "      <td>2017-11-11 10:00:00</td>\n",
       "      <td>Good</td>\n",
       "      <td>1318.0</td>\n",
       "      <td>5</td>\n",
       "    </tr>\n",
       "    <tr>\n",
       "      <th>1065</th>\n",
       "      <td>2017-11-11 13:00:00</td>\n",
       "      <td>Good</td>\n",
       "      <td>2100.0</td>\n",
       "      <td>5</td>\n",
       "    </tr>\n",
       "    <tr>\n",
       "      <th>1066</th>\n",
       "      <td>2017-11-11 08:00:00</td>\n",
       "      <td>Good</td>\n",
       "      <td>1380.0</td>\n",
       "      <td>5</td>\n",
       "    </tr>\n",
       "    <tr>\n",
       "      <th>1067</th>\n",
       "      <td>2017-11-04 16:00:00</td>\n",
       "      <td>Bad</td>\n",
       "      <td>2834.0</td>\n",
       "      <td>5</td>\n",
       "    </tr>\n",
       "  </tbody>\n",
       "</table>\n",
       "<p>1068 rows × 4 columns</p>\n",
       "</div>"
      ],
      "text/plain": [
       "                start_ts weather_conditions  duration_seconds  day_of_week\n",
       "0    2017-11-25 16:00:00               Good            2410.0            5\n",
       "1    2017-11-25 14:00:00               Good            1920.0            5\n",
       "2    2017-11-25 12:00:00               Good            1543.0            5\n",
       "3    2017-11-04 10:00:00               Good            2512.0            5\n",
       "4    2017-11-11 07:00:00               Good            1440.0            5\n",
       "...                  ...                ...               ...          ...\n",
       "1063 2017-11-25 11:00:00               Good               0.0            5\n",
       "1064 2017-11-11 10:00:00               Good            1318.0            5\n",
       "1065 2017-11-11 13:00:00               Good            2100.0            5\n",
       "1066 2017-11-11 08:00:00               Good            1380.0            5\n",
       "1067 2017-11-04 16:00:00                Bad            2834.0            5\n",
       "\n",
       "[1068 rows x 4 columns]"
      ]
     },
     "metadata": {},
     "output_type": "display_data"
    }
   ],
   "source": [
    "# Filtrar solo los sábados (5 = sábado)\n",
    "saturdays = trips_weather[trips_weather['day_of_week'] == 5]\n",
    "display(saturdays)"
   ]
  },
  {
   "cell_type": "code",
   "execution_count": 13,
   "metadata": {
    "trusted": false
   },
   "outputs": [
    {
     "data": {
      "text/html": [
       "<div>\n",
       "<style scoped>\n",
       "    .dataframe tbody tr th:only-of-type {\n",
       "        vertical-align: middle;\n",
       "    }\n",
       "\n",
       "    .dataframe tbody tr th {\n",
       "        vertical-align: top;\n",
       "    }\n",
       "\n",
       "    .dataframe thead th {\n",
       "        text-align: right;\n",
       "    }\n",
       "</style>\n",
       "<table border=\"1\" class=\"dataframe\">\n",
       "  <thead>\n",
       "    <tr style=\"text-align: right;\">\n",
       "      <th></th>\n",
       "      <th>start_ts</th>\n",
       "      <th>weather_conditions</th>\n",
       "      <th>duration_seconds</th>\n",
       "      <th>day_of_week</th>\n",
       "    </tr>\n",
       "  </thead>\n",
       "  <tbody>\n",
       "    <tr>\n",
       "      <th>6</th>\n",
       "      <td>2017-11-04 16:00:00</td>\n",
       "      <td>Bad</td>\n",
       "      <td>2969.0</td>\n",
       "      <td>5</td>\n",
       "    </tr>\n",
       "    <tr>\n",
       "      <th>30</th>\n",
       "      <td>2017-11-18 12:00:00</td>\n",
       "      <td>Bad</td>\n",
       "      <td>1980.0</td>\n",
       "      <td>5</td>\n",
       "    </tr>\n",
       "    <tr>\n",
       "      <th>34</th>\n",
       "      <td>2017-11-04 17:00:00</td>\n",
       "      <td>Bad</td>\n",
       "      <td>2460.0</td>\n",
       "      <td>5</td>\n",
       "    </tr>\n",
       "    <tr>\n",
       "      <th>51</th>\n",
       "      <td>2017-11-04 16:00:00</td>\n",
       "      <td>Bad</td>\n",
       "      <td>2760.0</td>\n",
       "      <td>5</td>\n",
       "    </tr>\n",
       "    <tr>\n",
       "      <th>52</th>\n",
       "      <td>2017-11-18 12:00:00</td>\n",
       "      <td>Bad</td>\n",
       "      <td>2460.0</td>\n",
       "      <td>5</td>\n",
       "    </tr>\n",
       "    <tr>\n",
       "      <th>...</th>\n",
       "      <td>...</td>\n",
       "      <td>...</td>\n",
       "      <td>...</td>\n",
       "      <td>...</td>\n",
       "    </tr>\n",
       "    <tr>\n",
       "      <th>1031</th>\n",
       "      <td>2017-11-18 12:00:00</td>\n",
       "      <td>Bad</td>\n",
       "      <td>2560.0</td>\n",
       "      <td>5</td>\n",
       "    </tr>\n",
       "    <tr>\n",
       "      <th>1032</th>\n",
       "      <td>2017-11-18 10:00:00</td>\n",
       "      <td>Bad</td>\n",
       "      <td>1908.0</td>\n",
       "      <td>5</td>\n",
       "    </tr>\n",
       "    <tr>\n",
       "      <th>1053</th>\n",
       "      <td>2017-11-18 12:00:00</td>\n",
       "      <td>Bad</td>\n",
       "      <td>2400.0</td>\n",
       "      <td>5</td>\n",
       "    </tr>\n",
       "    <tr>\n",
       "      <th>1061</th>\n",
       "      <td>2017-11-18 16:00:00</td>\n",
       "      <td>Bad</td>\n",
       "      <td>2186.0</td>\n",
       "      <td>5</td>\n",
       "    </tr>\n",
       "    <tr>\n",
       "      <th>1067</th>\n",
       "      <td>2017-11-04 16:00:00</td>\n",
       "      <td>Bad</td>\n",
       "      <td>2834.0</td>\n",
       "      <td>5</td>\n",
       "    </tr>\n",
       "  </tbody>\n",
       "</table>\n",
       "<p>180 rows × 4 columns</p>\n",
       "</div>"
      ],
      "text/plain": [
       "                start_ts weather_conditions  duration_seconds  day_of_week\n",
       "6    2017-11-04 16:00:00                Bad            2969.0            5\n",
       "30   2017-11-18 12:00:00                Bad            1980.0            5\n",
       "34   2017-11-04 17:00:00                Bad            2460.0            5\n",
       "51   2017-11-04 16:00:00                Bad            2760.0            5\n",
       "52   2017-11-18 12:00:00                Bad            2460.0            5\n",
       "...                  ...                ...               ...          ...\n",
       "1031 2017-11-18 12:00:00                Bad            2560.0            5\n",
       "1032 2017-11-18 10:00:00                Bad            1908.0            5\n",
       "1053 2017-11-18 12:00:00                Bad            2400.0            5\n",
       "1061 2017-11-18 16:00:00                Bad            2186.0            5\n",
       "1067 2017-11-04 16:00:00                Bad            2834.0            5\n",
       "\n",
       "[180 rows x 4 columns]"
      ]
     },
     "metadata": {},
     "output_type": "display_data"
    },
    {
     "data": {
      "text/html": [
       "<div>\n",
       "<style scoped>\n",
       "    .dataframe tbody tr th:only-of-type {\n",
       "        vertical-align: middle;\n",
       "    }\n",
       "\n",
       "    .dataframe tbody tr th {\n",
       "        vertical-align: top;\n",
       "    }\n",
       "\n",
       "    .dataframe thead th {\n",
       "        text-align: right;\n",
       "    }\n",
       "</style>\n",
       "<table border=\"1\" class=\"dataframe\">\n",
       "  <thead>\n",
       "    <tr style=\"text-align: right;\">\n",
       "      <th></th>\n",
       "      <th>start_ts</th>\n",
       "      <th>weather_conditions</th>\n",
       "      <th>duration_seconds</th>\n",
       "      <th>day_of_week</th>\n",
       "    </tr>\n",
       "  </thead>\n",
       "  <tbody>\n",
       "    <tr>\n",
       "      <th>0</th>\n",
       "      <td>2017-11-25 16:00:00</td>\n",
       "      <td>Good</td>\n",
       "      <td>2410.0</td>\n",
       "      <td>5</td>\n",
       "    </tr>\n",
       "    <tr>\n",
       "      <th>1</th>\n",
       "      <td>2017-11-25 14:00:00</td>\n",
       "      <td>Good</td>\n",
       "      <td>1920.0</td>\n",
       "      <td>5</td>\n",
       "    </tr>\n",
       "    <tr>\n",
       "      <th>2</th>\n",
       "      <td>2017-11-25 12:00:00</td>\n",
       "      <td>Good</td>\n",
       "      <td>1543.0</td>\n",
       "      <td>5</td>\n",
       "    </tr>\n",
       "    <tr>\n",
       "      <th>3</th>\n",
       "      <td>2017-11-04 10:00:00</td>\n",
       "      <td>Good</td>\n",
       "      <td>2512.0</td>\n",
       "      <td>5</td>\n",
       "    </tr>\n",
       "    <tr>\n",
       "      <th>4</th>\n",
       "      <td>2017-11-11 07:00:00</td>\n",
       "      <td>Good</td>\n",
       "      <td>1440.0</td>\n",
       "      <td>5</td>\n",
       "    </tr>\n",
       "    <tr>\n",
       "      <th>...</th>\n",
       "      <td>...</td>\n",
       "      <td>...</td>\n",
       "      <td>...</td>\n",
       "      <td>...</td>\n",
       "    </tr>\n",
       "    <tr>\n",
       "      <th>1062</th>\n",
       "      <td>2017-11-11 06:00:00</td>\n",
       "      <td>Good</td>\n",
       "      <td>1500.0</td>\n",
       "      <td>5</td>\n",
       "    </tr>\n",
       "    <tr>\n",
       "      <th>1063</th>\n",
       "      <td>2017-11-25 11:00:00</td>\n",
       "      <td>Good</td>\n",
       "      <td>0.0</td>\n",
       "      <td>5</td>\n",
       "    </tr>\n",
       "    <tr>\n",
       "      <th>1064</th>\n",
       "      <td>2017-11-11 10:00:00</td>\n",
       "      <td>Good</td>\n",
       "      <td>1318.0</td>\n",
       "      <td>5</td>\n",
       "    </tr>\n",
       "    <tr>\n",
       "      <th>1065</th>\n",
       "      <td>2017-11-11 13:00:00</td>\n",
       "      <td>Good</td>\n",
       "      <td>2100.0</td>\n",
       "      <td>5</td>\n",
       "    </tr>\n",
       "    <tr>\n",
       "      <th>1066</th>\n",
       "      <td>2017-11-11 08:00:00</td>\n",
       "      <td>Good</td>\n",
       "      <td>1380.0</td>\n",
       "      <td>5</td>\n",
       "    </tr>\n",
       "  </tbody>\n",
       "</table>\n",
       "<p>888 rows × 4 columns</p>\n",
       "</div>"
      ],
      "text/plain": [
       "                start_ts weather_conditions  duration_seconds  day_of_week\n",
       "0    2017-11-25 16:00:00               Good            2410.0            5\n",
       "1    2017-11-25 14:00:00               Good            1920.0            5\n",
       "2    2017-11-25 12:00:00               Good            1543.0            5\n",
       "3    2017-11-04 10:00:00               Good            2512.0            5\n",
       "4    2017-11-11 07:00:00               Good            1440.0            5\n",
       "...                  ...                ...               ...          ...\n",
       "1062 2017-11-11 06:00:00               Good            1500.0            5\n",
       "1063 2017-11-25 11:00:00               Good               0.0            5\n",
       "1064 2017-11-11 10:00:00               Good            1318.0            5\n",
       "1065 2017-11-11 13:00:00               Good            2100.0            5\n",
       "1066 2017-11-11 08:00:00               Good            1380.0            5\n",
       "\n",
       "[888 rows x 4 columns]"
      ]
     },
     "metadata": {},
     "output_type": "display_data"
    }
   ],
   "source": [
    "# Separar en días lluviosos y no lluviosos\n",
    "rainy = saturdays[saturdays['weather_conditions'] == 'Bad']\n",
    "not_rainy = saturdays[saturdays['weather_conditions'] == 'Good']\n",
    "display(rainy)\n",
    "display(not_rainy)"
   ]
  },
  {
   "cell_type": "code",
   "execution_count": 14,
   "metadata": {
    "trusted": false
   },
   "outputs": [
    {
     "name": "stdout",
     "output_type": "stream",
     "text": [
      "Valor p: 0.5332038671974493\n",
      "No se rechaza la hipótesis nula: las varianzas son iguales.\n"
     ]
    }
   ],
   "source": [
    "# Prueba de Levene para saber si las varianzas son iguales\n",
    "alpha = 0.05  # Nivel de significancia \n",
    "stat, p_value = stats.levene(rainy['duration_seconds'], not_rainy['duration_seconds'])\n",
    "\n",
    "# Imprimir valores\n",
    "print(f'Valor p: {p_value:}')\n",
    "\n",
    "# Interpretación de resultados\n",
    "alpha = 0.05\n",
    "if p_value < alpha:\n",
    "    print(\"Se rechaza la hipótesis nula: las varianzas son diferentes.\")\n",
    "else:\n",
    "    print(\"No se rechaza la hipótesis nula: las varianzas son iguales.\")\n"
   ]
  },
  {
   "cell_type": "code",
   "execution_count": 15,
   "metadata": {
    "trusted": false
   },
   "outputs": [
    {
     "name": "stdout",
     "output_type": "stream",
     "text": [
      "Valor p: 6.517970327099473e-12\n",
      "Rechazamos la hipótesis nula: la duración promedio cambia los sábados lluviosos.\n"
     ]
    }
   ],
   "source": [
    "# Prueba de hipótesis: t-test\n",
    "alpha = 0.05  # Nivel de significancia \n",
    "\n",
    "results = stats.ttest_ind(rainy['duration_seconds'], not_rainy['duration_seconds'], equal_var=True)\n",
    "\n",
    "# Imprimir valores\n",
    "print('Valor p:', results.pvalue)\n",
    "\n",
    "# Interpretación de resultados\n",
    "if results.pvalue < alpha:\n",
    "    print('Rechazamos la hipótesis nula: la duración promedio cambia los sábados lluviosos.')\n",
    "else:\n",
    "    print('No podemos rechazar la hipótesis nula: la duración promedio no cambia significativamente.')"
   ]
  },
  {
   "cell_type": "markdown",
   "metadata": {},
   "source": [
    "Método:\n",
    "* Se realizó una prueba de hipótesis con el método de la prueba t, debido a que estamos comparando las medias de dos grupos diferentes (días lluviosos vs días no lluviosos) con una significancia del 5% de error la cual es un estándar.\n",
    "\n",
    "Resultados:\n",
    "* El valor p obtenido fue un número muy chico lo cúal nos quiere decir que las medias son diferentes.\n",
    "\n",
    "Conclusión:\n",
    "* Como el valor p fue menor a 0.05, rechazamos la hipótesis nula. Esto sugiere que la duración de los viajes desde Loop hacia O'Hare sí cambia en los sábados lluviosos."
   ]
  }
 ],
 "metadata": {
  "ExecuteTimeLog": [
   {
    "duration": 350,
    "start_time": "2025-04-26T17:57:26.467Z"
   },
   {
    "duration": 7,
    "start_time": "2025-04-26T17:57:48.777Z"
   },
   {
    "duration": 24,
    "start_time": "2025-04-26T18:03:19.645Z"
   },
   {
    "duration": 15,
    "start_time": "2025-04-26T18:03:59.023Z"
   },
   {
    "duration": 8,
    "start_time": "2025-04-26T18:05:06.930Z"
   },
   {
    "duration": 9,
    "start_time": "2025-04-26T18:05:13.013Z"
   },
   {
    "duration": 16,
    "start_time": "2025-04-26T18:06:20.343Z"
   },
   {
    "duration": 12,
    "start_time": "2025-04-26T18:07:24.401Z"
   },
   {
    "duration": 13,
    "start_time": "2025-04-26T18:08:06.295Z"
   },
   {
    "duration": 13,
    "start_time": "2025-04-26T18:08:20.740Z"
   },
   {
    "duration": 13,
    "start_time": "2025-04-26T18:12:40.519Z"
   },
   {
    "duration": 14,
    "start_time": "2025-04-26T18:12:54.320Z"
   },
   {
    "duration": 183,
    "start_time": "2025-04-26T18:38:45.415Z"
   },
   {
    "duration": 7,
    "start_time": "2025-04-26T18:39:00.144Z"
   },
   {
    "duration": 6,
    "start_time": "2025-04-26T18:39:09.261Z"
   },
   {
    "duration": 20,
    "start_time": "2025-04-26T18:49:44.697Z"
   },
   {
    "duration": 15,
    "start_time": "2025-04-26T18:49:56.548Z"
   },
   {
    "duration": 179,
    "start_time": "2025-04-26T18:50:58.764Z"
   },
   {
    "duration": 2089,
    "start_time": "2025-04-26T18:51:33.825Z"
   },
   {
    "duration": 8,
    "start_time": "2025-04-26T19:33:34.965Z"
   },
   {
    "duration": 4,
    "start_time": "2025-04-26T19:33:53.972Z"
   },
   {
    "duration": 23,
    "start_time": "2025-04-26T19:34:08.007Z"
   },
   {
    "duration": 1097,
    "start_time": "2025-04-26T19:34:48.245Z"
   },
   {
    "duration": 10,
    "start_time": "2025-04-26T19:35:30.817Z"
   },
   {
    "duration": 1255,
    "start_time": "2025-04-26T19:36:55.996Z"
   },
   {
    "duration": 1027,
    "start_time": "2025-04-26T19:40:21.965Z"
   },
   {
    "duration": 166,
    "start_time": "2025-04-26T19:56:34.236Z"
   },
   {
    "duration": 375,
    "start_time": "2025-04-26T20:07:13.906Z"
   },
   {
    "duration": 155,
    "start_time": "2025-04-26T21:39:27.410Z"
   },
   {
    "duration": 2441,
    "start_time": "2025-04-26T21:39:40.627Z"
   },
   {
    "duration": 13,
    "start_time": "2025-04-26T21:39:43.071Z"
   },
   {
    "duration": 14,
    "start_time": "2025-04-26T21:39:43.085Z"
   },
   {
    "duration": 12,
    "start_time": "2025-04-26T21:39:43.101Z"
   },
   {
    "duration": 6,
    "start_time": "2025-04-26T21:39:43.115Z"
   },
   {
    "duration": 1070,
    "start_time": "2025-04-26T21:39:43.123Z"
   },
   {
    "duration": 170,
    "start_time": "2025-04-26T21:39:44.195Z"
   },
   {
    "duration": 9,
    "start_time": "2025-04-26T21:39:44.371Z"
   },
   {
    "duration": 13,
    "start_time": "2025-04-26T21:41:25.447Z"
   },
   {
    "duration": 5,
    "start_time": "2025-04-26T21:43:13.096Z"
   },
   {
    "duration": 622,
    "start_time": "2025-04-26T21:44:53.619Z"
   },
   {
    "duration": 4,
    "start_time": "2025-04-26T21:45:44.638Z"
   },
   {
    "duration": 4,
    "start_time": "2025-04-26T21:45:51.620Z"
   },
   {
    "duration": 9,
    "start_time": "2025-04-26T21:45:57.783Z"
   },
   {
    "duration": 4,
    "start_time": "2025-04-26T21:46:21.621Z"
   },
   {
    "duration": 4,
    "start_time": "2025-04-26T21:47:20.326Z"
   },
   {
    "duration": 11,
    "start_time": "2025-04-26T21:58:08.272Z"
   },
   {
    "duration": 18,
    "start_time": "2025-04-26T21:58:36.820Z"
   },
   {
    "duration": 6,
    "start_time": "2025-04-26T22:18:02.391Z"
   },
   {
    "duration": 4,
    "start_time": "2025-04-26T22:18:28.224Z"
   },
   {
    "duration": 4,
    "start_time": "2025-04-26T22:24:28.008Z"
   },
   {
    "duration": 5,
    "start_time": "2025-04-26T22:24:32.459Z"
   },
   {
    "duration": 753,
    "start_time": "2025-04-26T22:46:07.539Z"
   },
   {
    "duration": 84,
    "start_time": "2025-04-26T22:46:08.294Z"
   },
   {
    "duration": 23,
    "start_time": "2025-04-26T22:46:08.380Z"
   },
   {
    "duration": 12,
    "start_time": "2025-04-26T22:46:08.406Z"
   },
   {
    "duration": 6,
    "start_time": "2025-04-26T22:46:08.421Z"
   },
   {
    "duration": 1110,
    "start_time": "2025-04-26T22:46:08.428Z"
   },
   {
    "duration": 156,
    "start_time": "2025-04-26T22:46:09.540Z"
   },
   {
    "duration": 6,
    "start_time": "2025-04-26T22:46:09.698Z"
   },
   {
    "duration": 13,
    "start_time": "2025-04-26T22:46:09.706Z"
   },
   {
    "duration": 4,
    "start_time": "2025-04-26T22:46:09.721Z"
   },
   {
    "duration": 4,
    "start_time": "2025-04-26T22:46:09.727Z"
   },
   {
    "duration": 41,
    "start_time": "2025-04-26T22:46:09.733Z"
   },
   {
    "duration": 22,
    "start_time": "2025-04-26T22:46:09.776Z"
   },
   {
    "duration": 5,
    "start_time": "2025-04-26T22:46:09.802Z"
   },
   {
    "duration": 4,
    "start_time": "2025-04-26T22:46:09.809Z"
   },
   {
    "duration": 158,
    "start_time": "2025-04-29T18:45:07.376Z"
   },
   {
    "duration": 2482,
    "start_time": "2025-04-29T18:45:50.745Z"
   },
   {
    "duration": 13,
    "start_time": "2025-04-29T18:45:53.229Z"
   },
   {
    "duration": 14,
    "start_time": "2025-04-29T18:45:53.244Z"
   },
   {
    "duration": 11,
    "start_time": "2025-04-29T18:45:53.260Z"
   },
   {
    "duration": 6,
    "start_time": "2025-04-29T18:45:53.273Z"
   },
   {
    "duration": 1076,
    "start_time": "2025-04-29T18:45:53.281Z"
   },
   {
    "duration": 153,
    "start_time": "2025-04-29T18:45:54.359Z"
   },
   {
    "duration": 7,
    "start_time": "2025-04-29T18:45:54.514Z"
   },
   {
    "duration": 11,
    "start_time": "2025-04-29T18:45:54.523Z"
   },
   {
    "duration": 4,
    "start_time": "2025-04-29T18:45:54.538Z"
   },
   {
    "duration": 5,
    "start_time": "2025-04-29T18:45:54.543Z"
   },
   {
    "duration": 10,
    "start_time": "2025-04-29T18:45:54.549Z"
   },
   {
    "duration": 49,
    "start_time": "2025-04-29T18:45:54.561Z"
   },
   {
    "duration": 5,
    "start_time": "2025-04-29T18:45:54.612Z"
   },
   {
    "duration": 4,
    "start_time": "2025-04-29T18:45:54.619Z"
   },
   {
    "duration": 5,
    "start_time": "2025-04-29T18:46:43.129Z"
   },
   {
    "duration": 16,
    "start_time": "2025-04-29T18:48:16.493Z"
   },
   {
    "duration": 13,
    "start_time": "2025-04-29T18:49:36.584Z"
   },
   {
    "duration": 179,
    "start_time": "2025-04-29T18:50:33.202Z"
   },
   {
    "duration": 794,
    "start_time": "2025-04-29T18:51:30.249Z"
   },
   {
    "duration": 10,
    "start_time": "2025-04-29T18:51:31.045Z"
   },
   {
    "duration": 14,
    "start_time": "2025-04-29T18:51:31.056Z"
   },
   {
    "duration": 12,
    "start_time": "2025-04-29T18:51:31.072Z"
   },
   {
    "duration": 24,
    "start_time": "2025-04-29T18:51:31.086Z"
   },
   {
    "duration": 209,
    "start_time": "2025-04-29T18:51:31.112Z"
   },
   {
    "duration": 155,
    "start_time": "2025-04-29T18:51:31.323Z"
   },
   {
    "duration": 5,
    "start_time": "2025-04-29T18:51:31.480Z"
   },
   {
    "duration": 22,
    "start_time": "2025-04-29T18:51:31.487Z"
   },
   {
    "duration": 4,
    "start_time": "2025-04-29T18:51:31.511Z"
   },
   {
    "duration": 4,
    "start_time": "2025-04-29T18:51:31.516Z"
   },
   {
    "duration": 10,
    "start_time": "2025-04-29T18:51:31.522Z"
   },
   {
    "duration": 17,
    "start_time": "2025-04-29T18:51:31.533Z"
   },
   {
    "duration": 4,
    "start_time": "2025-04-29T18:51:31.551Z"
   },
   {
    "duration": 4,
    "start_time": "2025-04-29T18:51:31.557Z"
   },
   {
    "duration": 175,
    "start_time": "2025-04-29T18:53:52.285Z"
   },
   {
    "duration": 183,
    "start_time": "2025-04-29T18:54:09.382Z"
   },
   {
    "duration": 738,
    "start_time": "2025-04-29T18:57:04.407Z"
   },
   {
    "duration": 8,
    "start_time": "2025-04-29T18:57:05.148Z"
   },
   {
    "duration": 13,
    "start_time": "2025-04-29T18:57:05.158Z"
   },
   {
    "duration": 11,
    "start_time": "2025-04-29T18:57:05.173Z"
   },
   {
    "duration": 24,
    "start_time": "2025-04-29T18:57:05.186Z"
   },
   {
    "duration": 213,
    "start_time": "2025-04-29T18:57:05.212Z"
   },
   {
    "duration": 154,
    "start_time": "2025-04-29T18:57:05.427Z"
   },
   {
    "duration": 6,
    "start_time": "2025-04-29T18:57:05.583Z"
   },
   {
    "duration": 17,
    "start_time": "2025-04-29T18:57:05.592Z"
   },
   {
    "duration": 4,
    "start_time": "2025-04-29T18:57:05.612Z"
   },
   {
    "duration": 3,
    "start_time": "2025-04-29T18:57:05.618Z"
   },
   {
    "duration": 11,
    "start_time": "2025-04-29T18:57:05.623Z"
   },
   {
    "duration": 17,
    "start_time": "2025-04-29T18:57:05.636Z"
   },
   {
    "duration": 4,
    "start_time": "2025-04-29T18:57:05.655Z"
   },
   {
    "duration": 5,
    "start_time": "2025-04-29T18:57:05.660Z"
   }
  ],
  "kernelspec": {
   "display_name": "Python 3 (ipykernel)",
   "language": "python",
   "name": "python3"
  },
  "language_info": {
   "codemirror_mode": {
    "name": "ipython",
    "version": 3
   },
   "file_extension": ".py",
   "mimetype": "text/x-python",
   "name": "python",
   "nbconvert_exporter": "python",
   "pygments_lexer": "ipython3",
   "version": "3.9.19"
  },
  "toc": {
   "base_numbering": 1,
   "nav_menu": {},
   "number_sections": true,
   "sideBar": true,
   "skip_h1_title": true,
   "title_cell": "Table of Contents",
   "title_sidebar": "Contents",
   "toc_cell": false,
   "toc_position": {
    "height": "calc(100% - 180px)",
    "left": "10px",
    "top": "150px",
    "width": "242px"
   },
   "toc_section_display": true,
   "toc_window_display": false
  }
 },
 "nbformat": 4,
 "nbformat_minor": 2
}
